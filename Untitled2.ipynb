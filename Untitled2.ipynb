{
 "cells": [
  {
   "cell_type": "code",
   "execution_count": 1,
   "id": "58aebe19",
   "metadata": {},
   "outputs": [
    {
     "name": "stdout",
     "output_type": "stream",
     "text": [
      "sarma\n"
     ]
    }
   ],
   "source": [
    "print(\"sarma\")"
   ]
  },
  {
   "cell_type": "code",
   "execution_count": 2,
   "id": "99f1581d",
   "metadata": {},
   "outputs": [
    {
     "ename": "SyntaxError",
     "evalue": "EOL while scanning string literal (<ipython-input-2-bb8221d15087>, line 1)",
     "output_type": "error",
     "traceback": [
      "\u001b[1;36m  File \u001b[1;32m\"<ipython-input-2-bb8221d15087>\"\u001b[1;36m, line \u001b[1;32m1\u001b[0m\n\u001b[1;33m    print(\"my name is naraseswara sarma\u001b[0m\n\u001b[1;37m                                       ^\u001b[0m\n\u001b[1;31mSyntaxError\u001b[0m\u001b[1;31m:\u001b[0m EOL while scanning string literal\n"
     ]
    }
   ],
   "source": [
    "print(\"my name is naraseswara sarma\n",
    "    \")"
   ]
  },
  {
   "cell_type": "code",
   "execution_count": 3,
   "id": "5d3b2422",
   "metadata": {},
   "outputs": [
    {
     "name": "stdout",
     "output_type": "stream",
     "text": [
      "my name is naraseswara kotra\n"
     ]
    }
   ],
   "source": [
    "print(\"my name is naraseswara kotra\")"
   ]
  },
  {
   "cell_type": "code",
   "execution_count": 4,
   "id": "c0d2f196",
   "metadata": {},
   "outputs": [
    {
     "name": "stdout",
     "output_type": "stream",
     "text": [
      "\n",
      "my name is naraseswara kotra\n"
     ]
    }
   ],
   "source": [
    "print(\"\\nmy name is naraseswara kotra\")"
   ]
  },
  {
   "cell_type": "code",
   "execution_count": 5,
   "id": "a8d9b82f",
   "metadata": {},
   "outputs": [
    {
     "name": "stdout",
     "output_type": "stream",
     "text": [
      "\tmy name is naraseswara kotra\n"
     ]
    }
   ],
   "source": [
    "print(\"\\tmy name is naraseswara kotra\")"
   ]
  },
  {
   "cell_type": "code",
   "execution_count": 10,
   "id": "56282ca7",
   "metadata": {},
   "outputs": [
    {
     "name": "stdout",
     "output_type": "stream",
     "text": [
      "MY NAME IS NARASESWARA KOTRA\n"
     ]
    }
   ],
   "source": [
    "print(\"my name is naraseswara kotra\".upper())"
   ]
  },
  {
   "cell_type": "code",
   "execution_count": 9,
   "id": "27a58bde",
   "metadata": {},
   "outputs": [
    {
     "name": "stdout",
     "output_type": "stream",
     "text": [
      "SARMA\n"
     ]
    }
   ],
   "source": [
    "print(\"sarma\".upper())"
   ]
  },
  {
   "cell_type": "markdown",
   "id": "253f570b",
   "metadata": {},
   "source": [
    "# LISTS"
   ]
  },
  {
   "cell_type": "code",
   "execution_count": null,
   "id": "37b39a7a",
   "metadata": {},
   "outputs": [],
   "source": []
  },
  {
   "cell_type": "code",
   "execution_count": null,
   "id": "b67fa873",
   "metadata": {},
   "outputs": [],
   "source": []
  },
  {
   "cell_type": "code",
   "execution_count": null,
   "id": "9bda0fc8",
   "metadata": {},
   "outputs": [],
   "source": []
  },
  {
   "cell_type": "code",
   "execution_count": null,
   "id": "acd68e3b",
   "metadata": {},
   "outputs": [],
   "source": []
  },
  {
   "cell_type": "code",
   "execution_count": null,
   "id": "ba5de76b",
   "metadata": {},
   "outputs": [],
   "source": []
  },
  {
   "cell_type": "code",
   "execution_count": null,
   "id": "4808753c",
   "metadata": {},
   "outputs": [],
   "source": []
  },
  {
   "cell_type": "code",
   "execution_count": null,
   "id": "56271c6c",
   "metadata": {},
   "outputs": [],
   "source": []
  }
 ],
 "metadata": {
  "kernelspec": {
   "display_name": "Python 3",
   "language": "python",
   "name": "python3"
  },
  "language_info": {
   "codemirror_mode": {
    "name": "ipython",
    "version": 3
   },
   "file_extension": ".py",
   "mimetype": "text/x-python",
   "name": "python",
   "nbconvert_exporter": "python",
   "pygments_lexer": "ipython3",
   "version": "3.8.8"
  }
 },
 "nbformat": 4,
 "nbformat_minor": 5
}
